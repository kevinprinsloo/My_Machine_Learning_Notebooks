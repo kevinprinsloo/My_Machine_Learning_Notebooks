{
 "cells": [
  {
   "cell_type": "markdown",
   "metadata": {},
   "source": [
    "# Exploratory Data Analysis (EDA) in Python <br />  <hr style=\"border:4.5px solid #108999\"> </hr>\n",
    "\n",
    "This is my notebook on an example pipeline of EDA in Python.\n",
    "\n",
    "## How to quickly get a handle on almost any tabular dataset\n",
    "\n",
    "Becoming inherently familiar with a new dataset can be challenging and time consuming. However, an in-depth and broad exploratory data analysis (EDA) can help a lot to understand your dataset, get a feeling for how things are connected and what needs to be done to properly process your dataset.\n",
    "\n",
    "This NB will explore multiple useful EDA routines. However, to keep things short and compact it might not always dig deeper or explain all of the implications. But, spending enough time on a proper EDA to fully understand a dataset is a key part of any good data science project.\n",
    "\n",
    ">> As a rule of thumb, you probably will spend 80% of your time in data preparation and exploration and only 20% in actual machine learning modeli"
   ]
  },
  {
   "cell_type": "markdown",
   "metadata": {},
   "source": [
    "---\n",
    "## Overview\n",
    "\n",
    "This is an exploratory data analysis on the House Prices Kaggle Competition found at \n",
    "\n",
    "https://www.kaggle.com/c/house-prices-advanced-regression-techniques\n",
    "\n",
    "* **In order to download the data directly from the 'Kaggle Competition' you need to go to the rules tab and accept the rules for this competition**\n",
    " > Navigate to the Kaggle competition rule tab to accept [here](https://www.kaggle.com/competitions/house-prices-advanced-regression-techniques/rules)\n",
    "\n",
    "---"
   ]
  },
  {
   "cell_type": "markdown",
   "metadata": {},
   "source": [
    "1. [Import Python Libraries](#t1.) \n",
    "2. [Get the Data](#t2.) \n",
    "3. [Structure Investigation](#t3.)\n",
    "    * 3.1. [Structure of *non-numerical* features](#t3.1.) \n",
    "    * 3.2. [Structure of *numerical* features](#t3.2.)\n",
    "    * 3.3. [Conclusion of structure investigation](#t3.3.)  \n",
    "4. [Quality Investigation](#t4.)\n",
    "    * 4.1. [Duplicates](#t4.1.)\n",
    "    * 4.2. [Missing Values](#t4.2.)\n",
    "        * 4.2.1 [Per Sample](#t4.2.1.)\n",
    "        * 4.2.2 [Per Feature](#t4.2.2.)\n",
    "        * 4.2.3 [Side Note](#t4.2.3.)\n",
    "    * 4.3. [Unwanted entries and recording errors](#t4.3.)\n",
    "        * 4.3.1 [Numerical Features](#t4.3.1.)\n",
    "        * 4.3.2 [Non-Numerical Features](#t4.3.2.)\n",
    "    * 4.4. [Conclusion of quality investigation](#t4.4.)\n",
    "5. [Content Investigation](#t5.)\n",
    "    * 5.1. [Feature Distribution](#t5.1.)\n",
    "    * 5.2. [Feature Patterns](#t5.2.)\n",
    "       * 5.2.1 [Continuous Features](#t5.2.1.)\n",
    "       * 5.2.2 [Discrete and Ordinal Features](#t5.2.2.)\n",
    "    * 5.3. [Feature Relationships](#t5.3.)\n",
    "    * 5.4. [Conclusion of content investigation](#t5.4.)\n",
    "6. [Take Home Message](#t6.)"
   ]
  },
  {
   "cell_type": "markdown",
   "metadata": {},
   "source": [
    "## Outline\n",
    "___"
   ]
  },
  {
   "cell_type": "markdown",
   "metadata": {},
   "source": [
    "<a id=\"t1.\"></a>\n",
    "## 1. Import Libraries"
   ]
  },
  {
   "cell_type": "code",
   "execution_count": 2,
   "metadata": {},
   "outputs": [],
   "source": [
    "import pandas as pd\n",
    "import numpy as np\n",
    "import matplotlib as mpl\n",
    "import matplotlib.pyplot as plt\n",
    "%matplotlib inline\n",
    "import seaborn as sns\n",
    "import scipy.stats as st\n",
    "from sklearn import ensemble, tree, linear_model\n",
    "import missingno as msno"
   ]
  },
  {
   "cell_type": "markdown",
   "metadata": {},
   "source": [
    "<a id=\"t2.\"></a>\n",
    "## 2. Get the Data"
   ]
  },
  {
   "cell_type": "markdown",
   "metadata": {},
   "source": [
    "Using Pandas we can load the data from a .CSV file into a data frame.\n",
    "\n",
    "If you would like to install the data  directly from Kaggle you can use: `pip install Kaggle` or `conda install Kaggle` - then use the `kaggle.api` package to install the data from Kaggle.\n",
    "\n",
    "Otherwise download the data manually and load in the dataset using: `df = pd.read_csv(\"data.csv\")`"
   ]
  },
  {
   "cell_type": "markdown",
   "metadata": {},
   "source": [
    "### Downloading the data directly from Kaggle using the API:"
   ]
  },
  {
   "cell_type": "markdown",
   "metadata": {},
   "source": [
    "Kaggle API requires an API token. Go to the Account Tab ( `https://www.kaggle.com/<username>/account`) and click ‘Create API Token’.  A file named kaggle.json will be downloaded. Move this file in to `~/.kaggle/` folder in Mac and Linux or to `C:\\Users\\<username>\\.kaggle\\`  on windows. This is required for authentication and do not skip this step."
   ]
  },
  {
   "cell_type": "code",
   "execution_count": 3,
   "metadata": {},
   "outputs": [],
   "source": [
    "# Initializing and Authenticating With API Server\n",
    "\n",
    "from kaggle.api.kaggle_api_extended import KaggleApi\n",
    "api = KaggleApi()\n",
    "api.authenticate()"
   ]
  },
  {
   "cell_type": "markdown",
   "metadata": {},
   "source": [
    "* **In order to download the data directly from the 'Kaggle Competition' you need to go to the rules tab and accept the rules for this competition**\n",
    " > Navigate to the Kaggle competition rule tab to accept [here](https://www.kaggle.com/competitions/house-prices-advanced-regression-techniques/rules)\n",
    "\n",
    " > Next you will be able to run the code below"
   ]
  },
  {
   "cell_type": "code",
   "execution_count": 4,
   "metadata": {},
   "outputs": [],
   "source": [
    "api.competition_download_file('house-prices-advanced-regression-techniques','train.csv', path='./', force=False, quiet=True)\n",
    "api.competition_download_file('house-prices-advanced-regression-techniques','test.csv', path='./', force=False, quiet=True)"
   ]
  },
  {
   "cell_type": "code",
   "execution_count": null,
   "metadata": {},
   "outputs": [],
   "source": []
  }
 ],
 "metadata": {
  "kernelspec": {
   "display_name": "Python 3.9.7 ('MyCourseEnvKP')",
   "language": "python",
   "name": "python3"
  },
  "language_info": {
   "codemirror_mode": {
    "name": "ipython",
    "version": 3
   },
   "file_extension": ".py",
   "mimetype": "text/x-python",
   "name": "python",
   "nbconvert_exporter": "python",
   "pygments_lexer": "ipython3",
   "version": "3.9.7"
  },
  "orig_nbformat": 4,
  "vscode": {
   "interpreter": {
    "hash": "c1e9da2abdb90b884f8654ce86b0032d948d59cb08391585e54e02164ed3134f"
   }
  }
 },
 "nbformat": 4,
 "nbformat_minor": 2
}
