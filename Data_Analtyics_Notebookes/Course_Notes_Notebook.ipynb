{
 "cells": [
  {
   "cell_type": "code",
   "execution_count": null,
   "metadata": {},
   "outputs": [],
   "source": []
  }
 ],
 "metadata": {
  "interpreter": {
   "hash": "c1e9da2abdb90b884f8654ce86b0032d948d59cb08391585e54e02164ed3134f"
  },
  "kernelspec": {
   "display_name": "Python 3.9.7 ('MyCourseEnvKP')",
   "language": "python",
   "name": "python3"
  },
  "language_info": {
   "name": "python",
   "version": "3.9.7"
  },
  "orig_nbformat": 4
 },
 "nbformat": 4,
 "nbformat_minor": 2
}
