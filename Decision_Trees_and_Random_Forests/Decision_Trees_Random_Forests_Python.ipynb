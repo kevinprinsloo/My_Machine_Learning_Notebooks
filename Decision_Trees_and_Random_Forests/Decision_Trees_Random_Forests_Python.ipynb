{
 "cells": [
  {
   "cell_type": "markdown",
   "metadata": {},
   "source": [
    "# Decision Trees and Random Forests in Python\n",
    "\n",
    "This is my notebook on working with Decision Trees and Random Forests in Python.\n",
    "\n",
    "Reference for this Notebook can be found here: [blog post](https://medium.com/@josemarcialportilla/enchanted-random-forest-b08d418cb411#.hh7n1co54) explaining the general logic of decision trees and random forests which you can check out. !"
   ]
  },
  {
   "cell_type": "markdown",
   "metadata": {},
   "source": [
    "1. [Import Python Libraries](#t1.) \n",
    "    * 1.1. [Get Data](#t1.1.)"
   ]
  },
  {
   "cell_type": "markdown",
   "metadata": {},
   "source": [
    "<a id=\"t1.\"></a>\n",
    "## 1. Import Libraries"
   ]
  },
  {
   "cell_type": "code",
   "execution_count": null,
   "metadata": {},
   "outputs": [],
   "source": [
    "import pandas as pd\n",
    "import numpy as np\n",
    "import scipy.stats as stats\n",
    "import matplotlib.pyplot as plt\n",
    "import seaborn as sns\n",
    "from sklearn.model_selection import train_test_split\n",
    "from sklearn.linear_model import LogisticRegression\n",
    "from sklearn.metrics import classification_report\n",
    "\n",
    "%matplotlib inline"
   ]
  },
  {
   "cell_type": "markdown",
   "metadata": {},
   "source": [
    "<a id=\"t1.1.\"></a>\n",
    "### 1.1. Get Data"
   ]
  },
  {
   "cell_type": "code",
   "execution_count": null,
   "metadata": {},
   "outputs": [],
   "source": [
    "df = pd.read_csv('C:/Users/kevin/OneDrive/Upskill_Puthon_DS/Py_DS_ML_Bootcamp-master/Refactored_Py_DS_ML_Bootcamp-master/14-K-Nearest-Neighbors/Classified Data',index_col=0)"
   ]
  }
 ],
 "metadata": {
  "interpreter": {
   "hash": "c1e9da2abdb90b884f8654ce86b0032d948d59cb08391585e54e02164ed3134f"
  },
  "kernelspec": {
   "display_name": "Python 3.9.7 ('MyCourseEnvKP')",
   "language": "python",
   "name": "python3"
  },
  "language_info": {
   "name": "python",
   "version": "3.9.7"
  },
  "orig_nbformat": 4
 },
 "nbformat": 4,
 "nbformat_minor": 2
}
